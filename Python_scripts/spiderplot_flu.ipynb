{
 "cells": [
  {
   "cell_type": "code",
   "execution_count": 7,
   "id": "bf89cd43-a0e4-44ee-b18e-f8276165470b",
   "metadata": {},
   "outputs": [
    {
     "data": {
      "text/plain": [
       "'C:\\\\Users\\\\three\\\\Neu Kasten_5440\\\\022 master degree LSHTM\\\\LSHTM\\\\013 Data Challenge\\\\My Sanofi_5440\\\\data_challenge_2024_sanofi\\\\Output\\\\tables'"
      ]
     },
     "execution_count": 7,
     "metadata": {},
     "output_type": "execute_result"
    }
   ],
   "source": [
    "import os\n",
    "path='C:\\\\Users\\\\three\\\\Neu Kasten_5440\\\\022 master degree LSHTM\\\\LSHTM\\\\013 Data Challenge\\\\My Sanofi_5440\\\\data_challenge_2024_sanofi\\\\Output\\\\tables\\\\'\n",
    "os.chdir(path)\n",
    "os.getcwd()"
   ]
  },
  {
   "cell_type": "code",
   "execution_count": 12,
   "id": "f92b7411-2a3d-4be3-8665-b0804122ccf9",
   "metadata": {},
   "outputs": [],
   "source": [
    "import pandas as pd\n",
    "df=pd.read_csv('table_peakweek_spider_flu.csv')"
   ]
  },
  {
   "cell_type": "code",
   "execution_count": 32,
   "id": "5dd9975f-6c36-427d-9411-0f5525318af2",
   "metadata": {},
   "outputs": [],
   "source": [
    "# data cleaning\n",
    "df = df.iloc[ [2,3,4,5,6,7,8] , :]"
   ]
  },
  {
   "cell_type": "code",
   "execution_count": 47,
   "id": "f921be57-05fe-4af8-bd36-ec2453bdb92e",
   "metadata": {},
   "outputs": [],
   "source": [
    "df.index = df[\"Unnamed: 0\"]\n",
    "df = (df.iloc[: , list(range(1, 53, 1))])"
   ]
  },
  {
   "cell_type": "code",
   "execution_count": 69,
   "id": "f3b29a7c-a728-43b8-937c-e3fb4ccbb4dc",
   "metadata": {
    "scrolled": true
   },
   "outputs": [
    {
     "name": "stdout",
     "output_type": "stream",
     "text": [
      "             52   51  50  49  48   47  46  45  44  43  ...  10   9   8   7  \\\n",
      "Unnamed: 0                                             ...                   \n",
      "2017/18     NaN  NaN NaN NaN NaN  NaN NaN NaN NaN NaN  ... NaN NaN NaN NaN   \n",
      "2018/19     NaN  NaN NaN NaN NaN  NaN NaN NaN NaN NaN  ... NaN NaN NaN NaN   \n",
      "2019/20     NaN  3.0 NaN NaN NaN  NaN NaN NaN NaN NaN  ... NaN NaN NaN NaN   \n",
      "2020/21     4.0  NaN NaN NaN NaN  4.0 NaN NaN NaN NaN  ... NaN NaN NaN NaN   \n",
      "2021/22     5.0  NaN NaN NaN NaN  NaN NaN NaN NaN NaN  ... NaN NaN NaN NaN   \n",
      "\n",
      "              6   5   4    3    2    1  \n",
      "Unnamed: 0                              \n",
      "2017/18     NaN NaN NaN  1.0  1.0  1.0  \n",
      "2018/19     2.0 NaN NaN  2.0  NaN  NaN  \n",
      "2019/20     3.0 NaN NaN  3.0  NaN  NaN  \n",
      "2020/21     NaN NaN NaN  NaN  NaN  NaN  \n",
      "2021/22     NaN NaN NaN  NaN  5.0  5.0  \n",
      "\n",
      "[5 rows x 52 columns]\n",
      "[52, 51, 50, 49, 48, 47, 46, 45, 44, 43, 42, 41, 40, 39, 38, 37, 36, 35, 34, 33, 32, 31, 30, 29, 28, 27, 26, 25, 24, 23, 22, 21, 20, 19, 18, 17, 16, 15, 14, 13, 12, 11, 10, 9, 8, 7, 6, 5, 4, 3, 2, 1]\n",
      "[52.0, 51.0, 50.0, 49.0, 48.0, 47.0, 46.0, 45.0, 44.0, 43.0, 42.0, 41.0, 40.0, 39.0, 38.0, 37.0, 36.0, 35.0, 34.0, 33.0, 32.0, 31.0, 30.0, 29.0, 28.0, 27.0, 26.0, 25.0, 24.0, 23.0, 22.0, 21.0, 20.0, 19.0, 18.0, 17.0, 16.0, 15.0, 14.0, 13.0, 12.0, 11.0, 10.0, 9.0, 8.0, 7.0, 6.0, 5.0, 4.0, 3.0, 2.0, 1.0]\n",
      "[nan, nan, nan, nan, nan, nan, nan, nan, nan, nan, nan, nan, nan, nan, nan, nan, nan, 1.0, nan, nan, nan, nan, nan, nan, nan, nan, nan, nan, nan, nan, nan, nan, nan, nan, nan, nan, nan, nan, nan, nan, nan, nan, nan, nan, nan, nan, nan, nan, nan, 1.0, 1.0, 1.0]\n"
     ]
    }
   ],
   "source": [
    "print(df.head())\n",
    "df.columns\n",
    "categories_week = list(range(52, 0, -1)) # = df.columns\n",
    "print(categories_week)\n",
    "categories_numeric = [float(value) for value in categories_week]\n",
    "print(categories_numeric)\n",
    "\n",
    "\n",
    "value_1718 = df.iloc[0,:]\n",
    "value_1718 = [float(value) for value in value_1718]\n",
    "print(value_1718)\n",
    "\n",
    "value_test = list(range(52, 0, -1))"
   ]
  },
  {
   "cell_type": "code",
   "execution_count": 85,
   "id": "223c6310-4878-4133-b7e6-0c02a9d94827",
   "metadata": {
    "scrolled": true
   },
   "outputs": [],
   "source": [
    "import plotly.graph_objects as go\n",
    "fig = go.Figure()\n",
    "\n",
    "fig.add_trace(go.Scatterpolar(\n",
    "      r= value_1718,\n",
    "      theta=categories_week,\n",
    "      fill='toself',\n",
    "      name='2017/18'\n",
    "))\n",
    "fig.add_trace(go.Scatterpolar(\n",
    "      r= value_1718,\n",
    "      theta=categories_week,\n",
    "      fill='toself',\n",
    "      name='2017/18'\n",
    "))\n",
    "\n",
    "fig.update_layout(\n",
    "  polar=dict(\n",
    "    radialaxis=dict(\n",
    "      visible=True,\n",
    "      range=[0, 52]\n",
    "    )),\n",
    "  showlegend=False\n",
    ")\n",
    "\n",
    "fig.show(renderer=\"browser\")"
   ]
  },
  {
   "cell_type": "code",
   "execution_count": 87,
   "id": "1c0d0cf2-47cd-41dc-8eef-04d19b672313",
   "metadata": {},
   "outputs": [],
   "source": [
    "import plotly.express as px\n",
    "import numpy as np\n",
    "# Sample data\n",
    "df2 = pd.DataFrame(dict(\n",
    "    value = [10 , 12, 12, 10, 10,  #np.NaN\n",
    "             12, 8, 13, 10, 10],\n",
    "    variable = ['V1', 'V2', 'V3', 'V4', 'V5',\n",
    "               'V1', 'V2', 'V3', 'V4', 'V5'],\n",
    "    group = ['A', 'A', 'A', 'A', 'A',\n",
    "            'B', 'B', 'B', 'B', 'B']))\n",
    "           \n",
    "fig = px.line_polar(df2, r = 'value', theta = 'variable', line_close = True,\n",
    "                    color = 'group')\n",
    "fig.update_traces(fill = 'toself')\n",
    "\n",
    "fig.show(renderer=\"browser\")"
   ]
  },
  {
   "cell_type": "code",
   "execution_count": null,
   "id": "e810c6d9-4644-4a35-9451-4ccfa51694cb",
   "metadata": {},
   "outputs": [],
   "source": []
  }
 ],
 "metadata": {
  "kernelspec": {
   "display_name": "Python 3 (ipykernel)",
   "language": "python",
   "name": "python3"
  },
  "language_info": {
   "codemirror_mode": {
    "name": "ipython",
    "version": 3
   },
   "file_extension": ".py",
   "mimetype": "text/x-python",
   "name": "python",
   "nbconvert_exporter": "python",
   "pygments_lexer": "ipython3",
   "version": "3.12.2"
  }
 },
 "nbformat": 4,
 "nbformat_minor": 5
}
